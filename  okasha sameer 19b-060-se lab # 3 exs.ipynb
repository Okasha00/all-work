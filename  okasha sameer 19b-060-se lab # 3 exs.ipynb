{
 "cells": [
  {
   "cell_type": "markdown",
   "metadata": {},
   "source": [
    "# okasha sameer 19b-060-SE lab 3 exs"
   ]
  },
  {
   "cell_type": "code",
   "execution_count": 1,
   "metadata": {},
   "outputs": [
    {
     "name": "stdout",
     "output_type": "stream",
     "text": [
      "enter radius,(in meter): 0.5\n",
      "5.0 m/s\n"
     ]
    }
   ],
   "source": [
    "# ex - 1(a) \n",
    "radius = float(input(\"enter radius,(in meter): \"))\n",
    "angular_speed = 10\n",
    "velocity = radius * angular_speed\n",
    "print(velocity, \"m/s\")"
   ]
  },
  {
   "cell_type": "code",
   "execution_count": 15,
   "metadata": {},
   "outputs": [
    {
     "name": "stdout",
     "output_type": "stream",
     "text": [
      "enter radius,(in meter): 1\n",
      "10.0 m/s\n"
     ]
    }
   ],
   "source": [
    "# ex - 1(b)\n",
    "radius = float(input(\"enter radius,(in meter): \"))\n",
    "angular_speed = 10\n",
    "velocity = radius * angular_speed\n",
    "print(velocity, \"m/s\")"
   ]
  },
  {
   "cell_type": "code",
   "execution_count": 16,
   "metadata": {},
   "outputs": [
    {
     "name": "stdout",
     "output_type": "stream",
     "text": [
      "enter radius,(in meter): 2\n",
      "20.0 m/s\n"
     ]
    }
   ],
   "source": [
    "# ex - 1(c)\n",
    "radius = float(input(\"enter radius,(in meter): \"))\n",
    "angular_speed = 10\n",
    "velocity = radius * angular_speed\n",
    "print(velocity, \"m/s\")"
   ]
  },
  {
   "cell_type": "code",
   "execution_count": 20,
   "metadata": {},
   "outputs": [
    {
     "name": "stdout",
     "output_type": "stream",
     "text": [
      "enter radius,(in centimeter): 5\n",
      "enter number of revolution: 5000\n",
      "2617.993877991494 m/s\n"
     ]
    }
   ],
   "source": [
    "# ex - 2(a) \n",
    "from math import pi \n",
    "radius = float (input(\"enter radius,(in centimeter): \"))\n",
    "numberofrevolutions = float(input(\"enter number of revolution: \"))\n",
    "rpm =  numberofrevolutions / 60\n",
    "angular_speed = rpm * 2 * pi\n",
    "linear_velocity = radius * angular_speed\n",
    "print(linear_velocity, \"m/s\")\n"
   ]
  },
  {
   "cell_type": "code",
   "execution_count": 7,
   "metadata": {},
   "outputs": [
    {
     "name": "stdout",
     "output_type": "stream",
     "text": [
      "enter radius,(in centimeter): 10\n",
      "enter number of revolution: 523.3\n",
      "547.9984785411795 m/s\n"
     ]
    }
   ],
   "source": [
    "# ex - 2(b) \n",
    "from math import pi \n",
    "radius = float (input(\"enter radius,(in centimeter): \"))\n",
    "numberofrevolutions = float(input(\"enter number of revolution: \"))\n",
    "rpm =  numberofrevolutions / 60\n",
    "angular_speed = rpm * 2 * pi\n",
    "linear_velocity = radius * angular_speed\n",
    "print(linear_velocity, \"m/s\")\n"
   ]
  },
  {
   "cell_type": "code",
   "execution_count": 9,
   "metadata": {},
   "outputs": [
    {
     "name": "stdout",
     "output_type": "stream",
     "text": [
      "enter radius,(in meter): .3\n",
      "3.0 m/s\n"
     ]
    }
   ],
   "source": [
    "# ex - 3\n",
    "radius = float(input(\"enter radius,(in meter): \"))\n",
    "angular_speed = 10\n",
    "velocity = radius * angular_speed\n",
    "print(velocity, \"m/s\")"
   ]
  },
  {
   "cell_type": "code",
   "execution_count": 1,
   "metadata": {},
   "outputs": [
    {
     "name": "stdout",
     "output_type": "stream",
     "text": [
      "enter linear speed (in m/s): 10\n",
      "enter diameter (in cm): 50\n",
      "40.0 rad/s\n"
     ]
    }
   ],
   "source": [
    "# ex - 4\n",
    "linear_speed = float(input(\"enter linear speed (in m/s): \"))\n",
    "diameter = float(input(\"enter diameter (in cm): \"))\n",
    "radius_in_cm = diameter / 2\n",
    "radius_in_meter = radius_in_cm / 100\n",
    "angular_speed = linear_speed / radius_in_meter\n",
    "print(angular_speed, \"rad/s\")"
   ]
  },
  {
   "cell_type": "code",
   "execution_count": 4,
   "metadata": {},
   "outputs": [
    {
     "name": "stdout",
     "output_type": "stream",
     "text": [
      "enter the radius (in cm): 3\n"
     ]
    },
    {
     "ename": "NameError",
     "evalue": "name 'radius_in_meter' is not defined",
     "output_type": "error",
     "traceback": [
      "\u001b[1;31m---------------------------------------------------------------------------\u001b[0m",
      "\u001b[1;31mNameError\u001b[0m                                 Traceback (most recent call last)",
      "\u001b[1;32m<ipython-input-4-aba0f5512f2e>\u001b[0m in \u001b[0;36m<module>\u001b[1;34m\u001b[0m\n\u001b[0;32m      2\u001b[0m \u001b[0mtime\u001b[0m \u001b[1;33m=\u001b[0m \u001b[1;36m10\u001b[0m\u001b[1;33m\u001b[0m\u001b[1;33m\u001b[0m\u001b[0m\n\u001b[0;32m      3\u001b[0m \u001b[0mradius_in_cm\u001b[0m \u001b[1;33m=\u001b[0m \u001b[0mint\u001b[0m\u001b[1;33m(\u001b[0m\u001b[0minput\u001b[0m\u001b[1;33m(\u001b[0m\u001b[1;34m\"enter the radius (in cm): \"\u001b[0m\u001b[1;33m)\u001b[0m\u001b[1;33m)\u001b[0m\u001b[1;33m\u001b[0m\u001b[1;33m\u001b[0m\u001b[0m\n\u001b[1;32m----> 4\u001b[1;33m \u001b[0mradius_in_cm\u001b[0m \u001b[1;33m=\u001b[0m \u001b[0mradius_in_meter\u001b[0m \u001b[1;33m/\u001b[0m \u001b[1;36m100\u001b[0m\u001b[1;33m\u001b[0m\u001b[1;33m\u001b[0m\u001b[0m\n\u001b[0m\u001b[0;32m      5\u001b[0m \u001b[0mrevolution\u001b[0m \u001b[1;33m=\u001b[0m \u001b[0mfloat\u001b[0m\u001b[1;33m(\u001b[0m\u001b[0minput\u001b[0m\u001b[1;33m(\u001b[0m\u001b[1;34m\"enter revolution: \"\u001b[0m\u001b[1;33m)\u001b[0m\u001b[1;33m)\u001b[0m\u001b[1;33m\u001b[0m\u001b[1;33m\u001b[0m\u001b[0m\n\u001b[0;32m      6\u001b[0m \u001b[0mrevolution_per_second\u001b[0m \u001b[1;33m=\u001b[0m \u001b[0mrevolution\u001b[0m \u001b[1;33m/\u001b[0m \u001b[1;36m60\u001b[0m\u001b[1;33m\u001b[0m\u001b[1;33m\u001b[0m\u001b[0m\n",
      "\u001b[1;31mNameError\u001b[0m: name 'radius_in_meter' is not defined"
     ]
    }
   ],
   "source": [
    "# ex - 5\n",
    "time = 10\n",
    "radius_in_cm = int(input(\"enter the radius (in cm): \"))\n",
    "radius_in_cm = radius_in_meter / 100\n",
    "revolution = float(input(\"enter revolution: \"))\n",
    "revolution_per_second = revolution / 60 \n",
    "revolution_in_rpm = revolution_per_sec * 2 * pi\n",
    "velocity = revolution_in_rpm * radius_in_meter\n",
    "distance = velocity * time\n",
    "print(distance, \"meter\")\n",
    "\n",
    "\n"
   ]
  },
  {
   "cell_type": "code",
   "execution_count": null,
   "metadata": {},
   "outputs": [],
   "source": []
  }
 ],
 "metadata": {
  "kernelspec": {
   "display_name": "Python 3",
   "language": "python",
   "name": "python3"
  },
  "language_info": {
   "codemirror_mode": {
    "name": "ipython",
    "version": 3
   },
   "file_extension": ".py",
   "mimetype": "text/x-python",
   "name": "python",
   "nbconvert_exporter": "python",
   "pygments_lexer": "ipython3",
   "version": "3.7.4"
  }
 },
 "nbformat": 4,
 "nbformat_minor": 2
}

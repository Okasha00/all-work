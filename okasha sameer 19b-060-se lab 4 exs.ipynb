{
 "cells": [
  {
   "cell_type": "markdown",
   "metadata": {},
   "source": [
    "# okasha sameer 19b-060-se lab 4 exs"
   ]
  },
  {
   "cell_type": "code",
   "execution_count": 1,
   "metadata": {},
   "outputs": [
    {
     "name": "stdout",
     "output_type": "stream",
     "text": [
      "Enter the value of a1\n",
      "Enter the value of b2\n",
      "Enter the value of c4\n",
      "This equation has two solution:  (-1-1.7320508075688772j)  and  (-1+1.7320508075688772j)\n"
     ]
    }
   ],
   "source": [
    "# program 1\n",
    "# Quardatic equation\n",
    "a = eval(input(\"Enter the value of a\"))\n",
    "b = eval(input(\"Enter the value of b\"))\n",
    "c = eval(input(\"Enter the value of c\"))\n",
    "if 2*a == 0:\n",
    "    print(\"Denominator is zero,Hence the equation can't be solved\")\n",
    "else:\n",
    "    import cmath \n",
    "    d = (b**2) - (4*a*c)\n",
    "    x1 = (-b-cmath.sqrt(d))/(2*a)\n",
    "    x2 = (-b+cmath.sqrt(d))/(2*a)\n",
    "    print(\"This equation has two solution: \", x1 , \" and \" , x2)\n",
    "    "
   ]
  },
  {
   "cell_type": "code",
   "execution_count": 2,
   "metadata": {},
   "outputs": [
    {
     "ename": "SyntaxError",
     "evalue": "invalid syntax (<ipython-input-2-454a67341ba2>, line 21)",
     "output_type": "error",
     "traceback": [
      "\u001b[1;36m  File \u001b[1;32m\"<ipython-input-2-454a67341ba2>\"\u001b[1;36m, line \u001b[1;32m21\u001b[0m\n\u001b[1;33m    print(A grade)\u001b[0m\n\u001b[1;37m                ^\u001b[0m\n\u001b[1;31mSyntaxError\u001b[0m\u001b[1;31m:\u001b[0m invalid syntax\n"
     ]
    }
   ],
   "source": [
    "# program 4\n",
    "name  = str(input(\"Enter the name:\"))\n",
    "father_name  = str(input(\"Enter the father name:\"))\n",
    "roll_number = int(input(\"Enter the roll_number:\"))\n",
    "english = int(input(\"Enter the english marks:\"))\n",
    "urdu = int(input(\"Enter the urdu marks:\"))\n",
    "maths = int(input(\"Enter the maths marks:\"))\n",
    "phy = int(input(\"Enter the phy marks:\"))\n",
    "pak_studies = int(input(\"Enter the pak_studies marks:\"))\n",
    "chem = int(input(\"Enter the chem marks:\"))\n",
    "\n",
    "Total_marks = 600\n",
    "obtained_marks = sum(english+urdu+maths+phy+pak_studies+chem)\n",
    "print(\"obtained_marks\")\n",
    "\n",
    "percentage = (\"obtained_marks/total_marks\") * 100\n",
    "\n",
    "if(avg>=80):\n",
    "    print(A+ grade)\n",
    "elif(avg>=70):\n",
    "    print(A grade)\n",
    "elif(avg>=60):\n",
    "    print(B grade)\n",
    "else(avg>=50):\n",
    "    print(C grade)\n",
    "print(\"\\n\")\n",
    "print(\"-----------------------------------------------------------------------------------------------------------------------\")\n",
    "print(\"\\t\\t\\t\\t\\tBorad of Secondary Education, Karachi \\n\\t\\t\\t\\t\\t\\t Statement of Marks \\n\\t\\t\\t\\t\\t\\t F.S.C EXAMINATION \\n\\t\\t\\t\\t\\t\")\n",
    "print(\"\\t Name: \", name, \"\\t Father Name: \", father_name, \"\\t Roll No.: \", roll_No, :\"\\t Date Of Birth:\" , date_of_birth,)\n",
    "print(\"-----------------------------------------------------------------------------------------------------------------------\"\n",
    "      \n",
    "    \n",
    "    \n",
    "\n"
   ]
  },
  {
   "cell_type": "code",
   "execution_count": null,
   "metadata": {},
   "outputs": [],
   "source": [
    "# ex 2 \n",
    "def sequence (a,d):\n",
    "    x = str(input(\"Do you want to find nth term Yes or No: \"))\n",
    "    y = x.casefold()\n",
    "    #print(y)\n",
    "    while(y == \"yes\"):\n",
    "        n = int(input(\"Enter the nth term you want to find: \"))\n",
    "        tn = a +((n - 1) * d)\n",
    "        print(tn)\n",
    "        x = input(\"Do you want to find anothernth term of the sequence: \")\n",
    "        y = x.casefold()\n",
    "        return \"The answer of the nth trem you entered is: \", tn\n",
    "a = int(input(\"Enter the first value of the sequence: \"))\n",
    "d = int(input(\"Enter the first value of the sequence: \"))\n",
    "sequence(a,d)"
   ]
  },
  {
   "cell_type": "code",
   "execution_count": 3,
   "metadata": {},
   "outputs": [
    {
     "name": "stdout",
     "output_type": "stream",
     "text": [
      "Enter the text you find to check for palindrome: civic\n",
      "yes your string is palindrome\n"
     ]
    }
   ],
   "source": [
    "\n",
    "text = input(\"Enter the text you find to check for palindrome: \")\n",
    "x = text.casefold()\n",
    "#print(x)\n",
    "y = len(text)\n",
    "z = text[y::-1]\n",
    "#print(z)\n",
    "if x==z:\n",
    "    print(\"yes your string is palindrome\")\n",
    "else:\n",
    "    print(\"sorry! your string is not palindrome\")\n"
   ]
  },
  {
   "cell_type": "code",
   "execution_count": 4,
   "metadata": {},
   "outputs": [
    {
     "name": "stdout",
     "output_type": "stream",
     "text": [
      "Input number of rows: 5\n",
      "Input number of columns: 5\n",
      "Enter the entire row wise: \n",
      "1\n",
      "2\n",
      "3\n",
      "4\n",
      "5\n",
      "6\n",
      "7\n",
      "8\n",
      "9\n",
      "10\n",
      "11\n",
      "12\n",
      "13\n",
      "14\n",
      "15\n",
      "16\n",
      "17\n",
      "18\n",
      "19\n",
      "20\n",
      "21\n",
      "22\n",
      "23\n",
      "24\n",
      "25\n",
      "1 2 3 4 5 \n",
      "6 7 8 9 10 \n",
      "11 12 13 14 15 \n",
      "16 17 18 19 20 \n",
      "21 22 23 24 25 \n"
     ]
    }
   ],
   "source": [
    "# ex 5\n",
    "row_num = int(input(\"Input number of rows: \"))\n",
    "col_num = int(input(\"Input number of columns: \"))\n",
    "\n",
    "matrix = []\n",
    "print(\"Enter the entire row wise: \")\n",
    "for row in range(row_num):\n",
    "    a = []\n",
    "    for col in range(col_num):\n",
    "        a.append(int(input()))\n",
    "    matrix.append(a)\n",
    "        \n",
    "for row in range(row_num):\n",
    "            for col in range(col_num):\n",
    "                print(matrix[row][col], end = \" \")\n",
    "            print()\n",
    "            \n",
    "            \n",
    "    \n",
    "\n",
    "\n"
   ]
  },
  {
   "cell_type": "code",
   "execution_count": 2,
   "metadata": {},
   "outputs": [
    {
     "name": "stdout",
     "output_type": "stream",
     "text": [
      "[4, 6, 4]\n",
      "[6, 8, 6]\n",
      "[7, 8, 5]\n"
     ]
    }
   ],
   "source": [
    "# ex 6\n",
    "x = [[1, 2, 2],[2, 3, 4],[2, 4, 2]]\n",
    "\n",
    "y = [[3, 4, 2],[4, 5, 2],[5, 4, 3]]\n",
    "\n",
    "result = [[0, 0, 0],[0, 0, 0],[0, 0, 0]]\n",
    "\n",
    "for i in range (len(x)):\n",
    "    for j in range (len(y)):\n",
    "        result[i][j] = x[i][j] + y[i][j]\n",
    "        \n",
    "        \n",
    "for r in result:\n",
    "    print(r)\n",
    "\n",
    "\n"
   ]
  },
  {
   "cell_type": "code",
   "execution_count": 8,
   "metadata": {},
   "outputs": [
    {
     "ename": "SyntaxError",
     "evalue": "invalid syntax (<ipython-input-8-105a774bab14>, line 16)",
     "output_type": "error",
     "traceback": [
      "\u001b[1;36m  File \u001b[1;32m\"<ipython-input-8-105a774bab14>\"\u001b[1;36m, line \u001b[1;32m16\u001b[0m\n\u001b[1;33m    Grade = \"A+\")\u001b[0m\n\u001b[1;37m                ^\u001b[0m\n\u001b[1;31mSyntaxError\u001b[0m\u001b[1;31m:\u001b[0m invalid syntax\n"
     ]
    }
   ],
   "source": [
    "# program 4\n",
    "name  = str(input(\"Enter the name:\"))\n",
    "father_name  = str(input(\"Enter the father name:\"))\n",
    "roll_number = int(input(\"Enter the roll_number:\"))\n",
    "english = eval(input(\"Enter the english marks:\"))\n",
    "urdu = eval(input(\"Enter the urdu marks:\"))\n",
    "maths = eval(input(\"Enter the maths marks:\"))\n",
    "phy = eval(input(\"Enter the phy marks:\"))\n",
    "computer = eval(input(\"Enter the computer marks:\"))\n",
    "chem = eval(input(\"Enter the chem marks:\"))\n",
    "Total_marks = 600\n",
    "total_num = (english + urdu + maths + phy + computer + chem)\n",
    "print(\"obtained_marks\")\n",
    "percentage = (\"total_marks / total_marks\") * 100\n",
    "if percentage >= 90:\n",
    "    Grade = \"A+\")\n",
    "elif(percentage >= 80 and percentage < 90):\n",
    "    Grade =\"B\"\n",
    "elif(percentage >= 70 and percentage < 80):\n",
    "    Grade = \"C\")\n",
    "elif(percentage >= 60 and percentage < 70):\n",
    "    Grade = \"D\"\n",
    "else:\n",
    "    Grade = \"F\")"
   ]
  },
  {
   "cell_type": "code",
   "execution_count": null,
   "metadata": {},
   "outputs": [],
   "source": []
  },
  {
   "cell_type": "code",
   "execution_count": null,
   "metadata": {},
   "outputs": [],
   "source": []
  },
  {
   "cell_type": "code",
   "execution_count": null,
   "metadata": {},
   "outputs": [],
   "source": []
  }
 ],
 "metadata": {
  "kernelspec": {
   "display_name": "Python 3",
   "language": "python",
   "name": "python3"
  },
  "language_info": {
   "codemirror_mode": {
    "name": "ipython",
    "version": 3
   },
   "file_extension": ".py",
   "mimetype": "text/x-python",
   "name": "python",
   "nbconvert_exporter": "python",
   "pygments_lexer": "ipython3",
   "version": "3.7.4"
  }
 },
 "nbformat": 4,
 "nbformat_minor": 2
}

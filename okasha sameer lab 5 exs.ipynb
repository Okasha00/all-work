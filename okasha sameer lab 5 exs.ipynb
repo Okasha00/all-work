{
 "cells": [
  {
   "cell_type": "markdown",
   "metadata": {},
   "source": [
    "# okasha sameer lab 5 exs sec A\n"
   ]
  },
  {
   "cell_type": "code",
   "execution_count": 4,
   "metadata": {},
   "outputs": [
    {
     "name": "stdout",
     "output_type": "stream",
     "text": [
      "The area of the cylinder is:87.96459430051421 cm²\n",
      "The volume of the cylinder is: 62.83185307179586 cm³\n"
     ]
    }
   ],
   "source": [
    "# program 1 \n",
    "from math import pi \n",
    "def cylinderarea(r,h):\n",
    "    area = (2 * pi * r * h) + (2 * pi * r**2)\n",
    "    print(\"The area of the cylinder is:{0} cm\\u00b2\".format(area))\n",
    "    return\n",
    "cylinderarea(2,5)\n",
    "\n",
    "def cylindervolume(r,h):\n",
    "    volume = (pi * (r**2) * h)\n",
    "    print(\"The volume of the cylinder is: {0} cm\\u00b3\".format(volume))\n",
    "    return\n",
    "cylindervolume(2,5)\n",
    "\n"
   ]
  },
  {
   "cell_type": "markdown",
   "metadata": {},
   "source": [
    " "
   ]
  },
  {
   "cell_type": "code",
   "execution_count": 2,
   "metadata": {},
   "outputs": [
    {
     "name": "stdout",
     "output_type": "stream",
     "text": [
      "Enter your name: okasha sameer \n",
      " reemas ahsako\n"
     ]
    }
   ],
   "source": [
    "# program 8\n",
    "def reverseName(name):\n",
    "    x = len(name)\n",
    "    y = name[x :: -1]\n",
    "    print(y)\n",
    "    return\n",
    "name = str(input(\"Enter your name: \"))\n",
    "reverseName(name)\n"
   ]
  },
  {
   "cell_type": "code",
   "execution_count": 7,
   "metadata": {},
   "outputs": [
    {
     "name": "stdout",
     "output_type": "stream",
     "text": [
      "Enter your name: syed fiasl\n",
      "lsaif deys\n"
     ]
    }
   ],
   "source": [
    "# profram 8 \n",
    "def reverseName(name):\n",
    "    x = len(name)\n",
    "    y = name[x :: -1]\n",
    "    print(y)\n",
    "    return\n",
    "name = str(input(\"Enter your name: \"))\n",
    "reverseName(name)\n"
   ]
  },
  {
   "cell_type": "code",
   "execution_count": null,
   "metadata": {},
   "outputs": [],
   "source": []
  }
 ],
 "metadata": {
  "kernelspec": {
   "display_name": "Python 3",
   "language": "python",
   "name": "python3"
  },
  "language_info": {
   "codemirror_mode": {
    "name": "ipython",
    "version": 3
   },
   "file_extension": ".py",
   "mimetype": "text/x-python",
   "name": "python",
   "nbconvert_exporter": "python",
   "pygments_lexer": "ipython3",
   "version": "3.7.4"
  }
 },
 "nbformat": 4,
 "nbformat_minor": 2
}
